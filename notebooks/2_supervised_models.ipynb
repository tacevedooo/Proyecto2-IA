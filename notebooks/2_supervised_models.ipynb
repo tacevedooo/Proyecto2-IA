{
 "cells": [
  {
   "cell_type": "code",
   "execution_count": null,
   "id": "87596deb",
   "metadata": {},
   "outputs": [],
   "source": [
    "1. Árbol de Decisiones - CC:SI - ED:NO - Outliers:NO - Balanceo: NO"
   ]
  },
  {
   "cell_type": "code",
   "execution_count": null,
   "id": "060d0a4c",
   "metadata": {},
   "outputs": [],
   "source": [
    "data1 = "
   ]
  }
 ],
 "metadata": {
  "kernelspec": {
   "display_name": "Python 3",
   "language": "python",
   "name": "python3"
  },
  "language_info": {
   "name": "python",
   "version": "3.13.7"
  }
 },
 "nbformat": 4,
 "nbformat_minor": 5
}
